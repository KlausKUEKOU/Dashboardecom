{
 "cells": [
  {
   "cell_type": "code",
   "execution_count": null,
   "metadata": {},
   "outputs": [],
   "source": [
    "import requests  # Pour envoyer des requêtes HTTP\n",
    "from bs4 import BeautifulSoup  # Pour parser le HTML\n",
    "import pandas as pd  # Pour stocker les résultats dans un DataFrame"
   ]
  },
  {
   "cell_type": "code",
   "execution_count": null,
   "metadata": {},
   "outputs": [],
   "source": [
    "# Fonction pour scraper Amazon\n",
    "def scrape_amazon(product_name):\n",
    "    # URL de recherche Amazon formatée avec le produit\n",
    "    url = f\"https://www.amazon.fr/s?k={product_name.replace(' ', '+')}\"\n",
    "    headers = {\n",
    "        \"User-Agent\": \"Mozilla/5.0 (Windows NT 10.0; Win64; x64) AppleWebKit/537.36 (KHTML, like Gecko) Chrome/91.0.4472.124 Safari/537.36\"\n",
    "    }\n",
    "    \n",
    "    try:\n",
    "        response = requests.get(url, headers=headers)\n",
    "        response.raise_for_status()  # Vérifie si la requête est réussie\n",
    "        \n",
    "        soup = BeautifulSoup(response.content, 'html.parser')\n",
    "        items = []\n",
    "\n",
    "        # Sélection des résultats (vérifier le sélecteur CSS avec un inspecteur)\n",
    "        for item in soup.select('[data-component-type=\"s-search-result\"]'):\n",
    "            try:\n",
    "                title = item.select_one('h2 a span')\n",
    "                price = item.select_one('.a-price-whole')\n",
    "                rating = item.select_one('span.a-icon-alt')\n",
    "                reviews = item.select_one('span.a-size-base.s-underline-text')\n",
    "\n",
    "                # Vérifie que les données existent avant d'essayer de les extraire\n",
    "                if title and price:\n",
    "                    items.append({\n",
    "                        'title': title.text.strip(),\n",
    "                        'price': float(price.text.replace(',', '.').replace('€', '').strip()) if price else None,\n",
    "                        'rating': float(rating.text.split()[0]) if rating else None,\n",
    "                        'reviews': int(reviews.text.replace('(', '').replace(')', '').strip()) if reviews else 0,\n",
    "                        'site': 'Amazon'\n",
    "                    })\n",
    "            except Exception as e:\n",
    "                print(f\"Erreur lors de l'extraction d'un produit Amazon: {e}\")\n",
    "        \n",
    "        return items  # Retourne la liste des produits trouvés\n",
    "    except Exception as e:\n",
    "        print(f\"Erreur lors de la requête Amazon: {e}\")\n",
    "        return []  # Retourne une liste vide si erreur"
   ]
  }
 ],
 "metadata": {
  "kernelspec": {
   "display_name": "scraping_env",
   "language": "python",
   "name": "python3"
  },
  "language_info": {
   "name": "python",
   "version": "3.12.8"
  }
 },
 "nbformat": 4,
 "nbformat_minor": 2
}
