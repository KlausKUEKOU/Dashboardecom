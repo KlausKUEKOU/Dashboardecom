{
 "cells": [
  {
   "cell_type": "markdown",
   "metadata": {},
   "source": []
  },
  {
   "cell_type": "code",
   "execution_count": 17,
   "metadata": {},
   "outputs": [
    {
     "name": "stdout",
     "output_type": "stream",
     "text": [
      "Fichier chargé avec succès.\n",
      "\n",
      "Aperçu des données après nettoyage :\n",
      "    Site                                              Titre  Prix_dollard  \\\n",
      "0  jumia  TiLECC T800 Smart Watch Ultra 8 Door Access  S...       6.99534   \n",
      "1  jumia  TiLECC T800 Smart Watch Ultra 8 Door Access  S...       7.25934   \n",
      "2  jumia  Ultra Smartwatches 8 Men Ultra Women IP67 Wate...       8.92848   \n",
      "3  jumia  Oraimo Smart Watch Magnetic Charger Cable & Or...       1.84734   \n",
      "4  jumia  2023 Smart Watch Ultra Series 8 NFC Smartwatch...       9.07632   \n",
      "\n",
      "   Note  Avis  Promo          Stock  \n",
      "0   3.5  1671   0.40  Non renseigné  \n",
      "1   3.6  1144   0.44  Non renseigné  \n",
      "2   4.2     9   0.70  Non renseigné  \n",
      "3   4.3   171   0.00  Non renseigné  \n",
      "4   3.9    11   0.56  Non renseigné  \n"
     ]
    }
   ],
   "source": [
    "import pandas as pd\n",
    "\n",
    "# Chargement du fichier CSV\n",
    "try:\n",
    "    df = pd.read_csv('resultats_scraping_jumiaNG1.csv', encoding='utf-8-sig')\n",
    "    print(\"Fichier chargé avec succès.\")\n",
    "except Exception as e:\n",
    "    print(f\"Erreur lors du chargement du fichier : {e}\")\n",
    "    exit()\n",
    "\n",
    "\n",
    "# Nettoyage des données\n",
    "# 1. Renommer les colonnes pour une meilleure lisibilité\n",
    "df.columns = ['Site', 'Titre', 'Prix_dollard', 'Note', 'Avis', 'Stock', 'Promo']\n",
    "\n",
    "\n",
    "# 2. Nettoyer la colonne \"Prix_Naira\" pour extraire les valeurs numériques\n",
    "df['Prix_dollard'] = df['Prix_dollard'].str.replace('₦', '').str.replace(',', '').str.strip()\n",
    "\n",
    "# Function to handle ranges \n",
    "def convert_price(price):\n",
    "    if '-' in price:\n",
    "        prices = price.split('-')\n",
    "        prices = [float(p.strip()) for p in prices]\n",
    "        return sum(prices) /2\n",
    "    else:\n",
    "        return price\n",
    "\n",
    "# Apply the function to the column\n",
    "df['Prix_dollard'] = (df['Prix_dollard'].apply(convert_price).astype(float)) * 0.00066\n",
    "\n",
    "# 3. Convertir la colonne \"Note\" en float\n",
    "df['Note'] = df['Note'].astype(float)\n",
    "\n",
    "# 4. Extraire le nombre d'avis depuis la colonne \"Avis\"\n",
    "df['Avis'] = df['Avis'].str.extract(r'\\((\\d+)\\)').fillna(0).astype(int)\n",
    "\n",
    "# 5. Normaliser la colonne \"Stock\" \n",
    "df['Stock'] = df['Stock']\n",
    "\n",
    "# 6. Nettoyer la colonne \"Rabais\" pour extraire les pourcentages\n",
    "df['Promo'] = (df['Promo'].str.replace('%', '').str.replace('Aucun rabais', '0').str.strip().astype(float))*0.01\n",
    "\n",
    "\n",
    "df = df[['Site', 'Titre', 'Prix_dollard', 'Note', 'Avis', 'Promo', 'Stock']] \n",
    "\n",
    "\n",
    "\n",
    "# Affichage des premières lignes après nettoyage\n",
    "print(\"\\nAperçu des données après nettoyage :\")\n",
    "print(df.head())\n",
    "\n"
   ]
  },
  {
   "cell_type": "code",
   "execution_count": 24,
   "metadata": {},
   "outputs": [],
   "source": [
    "# Fonction pour classifier les produits\n",
    "def classify_product(title):\n",
    "    title_lower = str(title).lower()  # Convertir en minuscules pour uniformiser la recherche\n",
    "    if 'smart watch' in title_lower or 'smartwatch' in title_lower:\n",
    "        return 'Smartwatch'\n",
    "    elif 'smartphone' in title_lower or 'android' in title_lower or 'redmi' in title_lower or 'sim' in title_lower or 'itel' in title_lower or 'zte' in title_lower:\n",
    "        return 'Smartphone'\n",
    "    elif 'airpods' in title_lower or 'pods' in title_lower or 'earphone' in title_lower or 'ear' in title_lower:\n",
    "        return 'AirPods'\n",
    "    elif 'laptop' in title_lower or 'book' in title_lower or 'pc' in title_lower or 'intel' in title_lower or 'dell' in title_lower or 'hp' in title_lower:\n",
    "        return 'Laptop'\n",
    "    else:\n",
    "        return 'Autre'\n",
    "\n",
    "# Ajout d'une nouvelle colonne \"Type de Produit\"\n",
    "df['Produit'] = df['Titre'].apply(classify_product)"
   ]
  },
  {
   "cell_type": "code",
   "execution_count": 25,
   "metadata": {},
   "outputs": [
    {
     "name": "stdout",
     "output_type": "stream",
     "text": [
      "\n",
      "Données traitées sauvegardées dans 'Fin_jumiaNG1.csv'\n"
     ]
    }
   ],
   "source": [
    "# Export des données traitées vers un nouveau fichier CSV\n",
    "df.to_csv('Fin_jumiaNG1.csv', index=False, encoding='utf-8-sig')\n",
    "print(\"\\nDonnées traitées sauvegardées dans 'Fin_jumiaNG1.csv'\")"
   ]
  }
 ],
 "metadata": {
  "kernelspec": {
   "display_name": "scraping_env",
   "language": "python",
   "name": "python3"
  },
  "language_info": {
   "codemirror_mode": {
    "name": "ipython",
    "version": 3
   },
   "file_extension": ".py",
   "mimetype": "text/x-python",
   "name": "python",
   "nbconvert_exporter": "python",
   "pygments_lexer": "ipython3",
   "version": "3.12.8"
  }
 },
 "nbformat": 4,
 "nbformat_minor": 2
}
